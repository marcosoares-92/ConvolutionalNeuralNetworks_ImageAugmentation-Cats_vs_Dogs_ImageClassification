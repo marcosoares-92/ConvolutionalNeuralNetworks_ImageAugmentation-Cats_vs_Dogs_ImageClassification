{
  "cells": [
    {
      "cell_type": "markdown",
      "metadata": {
        "id": "AuW-xg_bTsaF"
      },
      "source": [
        "# Week 2: Tackle Overfitting with Data Augmentation\n",
        "\n",
        "Welcome to this assignment! As in the previous week, you will be using the famous `cats vs dogs` dataset to train a model that can classify images of dogs from images of cats. For this, you will create your own Convolutional Neural Network in Tensorflow and leverage Keras' image preprocessing utilities, more so this time around since Keras provides excellent support for augmenting image data.\n",
        "\n",
        "You will also need to create the helper functions to move the images around the filesystem as you did last week, so if you need to refresh your memory with the `os` module be sure to take a look a the [docs](https://docs.python.org/3/library/os.html).\n",
        "\n",
        "Let's get started!"
      ]
    },
    {
      "cell_type": "code",
      "execution_count": 2,
      "metadata": {
        "id": "dn-6c02VmqiN"
      },
      "outputs": [],
      "source": [
        "import os\n",
        "import zipfile\n",
        "import random\n",
        "import shutil\n",
        "import tensorflow as tf\n",
        "from tensorflow.keras.preprocessing.image import ImageDataGenerator\n",
        "from shutil import copyfile\n",
        "import matplotlib.pyplot as plt"
      ]
    },
    {
      "cell_type": "markdown",
      "metadata": {
        "id": "bLTQd84RUs1j"
      },
      "source": [
        "Download the dataset from its original source by running the cell below. \n",
        "\n",
        "Note that the `zip` file that contains the images is unzipped under the `/tmp` directory."
      ]
    },
    {
      "cell_type": "code",
      "execution_count": 3,
      "metadata": {
        "id": "3sd9dQWa23aj",
        "lines_to_next_cell": 2,
        "colab": {
          "base_uri": "https://localhost:8080/"
        },
        "outputId": "7e1dcf85-36e1-4b54-b450-522d1a405d86"
      },
      "outputs": [
        {
          "output_type": "stream",
          "name": "stdout",
          "text": [
            "--2022-04-02 13:56:35--  https://download.microsoft.com/download/3/E/1/3E1C3F21-ECDB-4869-8368-6DEBA77B919F/kagglecatsanddogs_3367a.zip\n",
            "Resolving download.microsoft.com (download.microsoft.com)... 23.6.204.110, 2600:1407:f800:49b::e59, 2600:1407:f800:4a5::e59\n",
            "Connecting to download.microsoft.com (download.microsoft.com)|23.6.204.110|:443... connected.\n",
            "HTTP request sent, awaiting response... 200 OK\n",
            "Length: 824894548 (787M) [application/octet-stream]\n",
            "Saving to: ‘/tmp/cats-and-dogs.zip’\n",
            "\n",
            "/tmp/cats-and-dogs. 100%[===================>] 786.68M   182MB/s    in 5.6s    \n",
            "\n",
            "2022-04-02 13:56:41 (140 MB/s) - ‘/tmp/cats-and-dogs.zip’ saved [824894548/824894548]\n",
            "\n"
          ]
        }
      ],
      "source": [
        "# If the URL doesn't work, visit https://www.microsoft.com/en-us/download/confirmation.aspx?id=54765\n",
        "# And right click on the 'Download Manually' link to get a new URL to the dataset\n",
        "\n",
        "# Note: This is a very large dataset and will take some time to download\n",
        "\n",
        "!wget --no-check-certificate \\\n",
        "    \"https://download.microsoft.com/download/3/E/1/3E1C3F21-ECDB-4869-8368-6DEBA77B919F/kagglecatsanddogs_3367a.zip\" \\\n",
        "    -O \"/tmp/cats-and-dogs.zip\"\n",
        "\n",
        "local_zip = '/tmp/cats-and-dogs.zip'\n",
        "zip_ref   = zipfile.ZipFile(local_zip, 'r')\n",
        "zip_ref.extractall('/tmp')\n",
        "zip_ref.close()"
      ]
    },
    {
      "cell_type": "markdown",
      "metadata": {
        "id": "e_HsUV9WVJHL"
      },
      "source": [
        "Now the images are stored within the `/tmp/PetImages` directory. There is a subdirectory for each class, so one for dogs and one for cats."
      ]
    },
    {
      "cell_type": "code",
      "execution_count": 4,
      "metadata": {
        "id": "DM851ZmN28J3",
        "colab": {
          "base_uri": "https://localhost:8080/"
        },
        "outputId": "f137cb0b-e42c-4958-9f73-a81e0b41aac2"
      },
      "outputs": [
        {
          "output_type": "stream",
          "name": "stdout",
          "text": [
            "There are 12501 images of dogs.\n",
            "There are 12501 images of cats.\n"
          ]
        }
      ],
      "source": [
        "source_path = '/tmp/PetImages'\n",
        "\n",
        "source_path_dogs = os.path.join(source_path, 'Dog')\n",
        "source_path_cats = os.path.join(source_path, 'Cat')\n",
        "\n",
        "\n",
        "# os.listdir returns a list containing all files under the given path\n",
        "print(f\"There are {len(os.listdir(source_path_dogs))} images of dogs.\")\n",
        "print(f\"There are {len(os.listdir(source_path_cats))} images of cats.\")"
      ]
    },
    {
      "cell_type": "markdown",
      "metadata": {
        "id": "G7dI86rmRGmC"
      },
      "source": [
        "**Expected Output:**\n",
        "\n",
        "```\n",
        "There are 12501 images of dogs.\n",
        "There are 12501 images of cats.\n",
        "```"
      ]
    },
    {
      "cell_type": "markdown",
      "metadata": {
        "id": "iFbMliudNIjW"
      },
      "source": [
        "You will need a directory for cats-v-dogs, and subdirectories for training\n",
        "and testing. These in turn will need subdirectories for 'cats' and 'dogs'. To accomplish this, complete the `create_train_test_dirs` below:"
      ]
    },
    {
      "cell_type": "code",
      "execution_count": 7,
      "metadata": {
        "cellView": "code",
        "id": "F-QkLjxpmyK2",
        "colab": {
          "base_uri": "https://localhost:8080/"
        },
        "outputId": "6c335cbc-2992-44f3-ca8b-082603a7c400"
      },
      "outputs": [
        {
          "output_type": "stream",
          "name": "stdout",
          "text": [
            "Creating '/tmp/cats-v-dogs' directory.\n",
            "Training directory created as '/tmp/cats-v-dogs/training'.\n",
            "Testing directory created as '/tmp/cats-v-dogs/testing'.\n",
            "Creating the subfolders for storing cats and dogs images.\n",
            "'/tmp/cats-v-dogs/training/cats' and '/tmp/cats-v-dogs/training/dogs' created.\n",
            "'/tmp/cats-v-dogs/testing/cats' and '/tmp/cats-v-dogs/testing/dogs' created.\n"
          ]
        }
      ],
      "source": [
        "# Define root directory\n",
        "root_dir = '/tmp/cats-v-dogs'\n",
        "\n",
        "# Empty directory to prevent FileExistsError is the function is run several times\n",
        "if os.path.exists(root_dir):\n",
        "  shutil.rmtree(root_dir)\n",
        "\n",
        "# GRADED FUNCTION: create_train_test_dirs\n",
        "def create_train_test_dirs(root_path):\n",
        "  ### START CODE HERE\n",
        "  #For this exercise, we must keep as arguments only the variables already defined for the graded functions.\n",
        "  \n",
        "  # HINT:\n",
        "  # Use os.makedirs to create your directories with intermediate subdirectories\n",
        "  # Don't hardcode the paths. Use os.path.join to append the new directories to the root_path parameter\n",
        "\n",
        "  print(f\"Creating \\'{root_path}\\' directory.\")\n",
        "  #Slash makes the code ignore the following character. This allows us to insert \n",
        "  #quotes inside a string.\n",
        "\n",
        "  #Use makedirs method to create the directory:\n",
        "  os.makedirs(root_path)\n",
        "\n",
        "  #Create directory of the images used for training:\n",
        "  \n",
        "  #1. Define subdirectory path (path where the directory will be created):\n",
        "  training_dir = os.path.join(root_path, 'training')\n",
        "  \n",
        "  #2. Create subdirectory on the defined path:\n",
        "  os.makedirs(training_dir)\n",
        "  print(f\"Training directory created as \\'{training_dir}\\'.\")\n",
        "\n",
        "  #Create directory of the images used for testing:\n",
        "  \n",
        "  #1. Define subdirectory path (path where the directory will be created):\n",
        "  testing_dir = os.path.join(root_path, 'testing')\n",
        "  \n",
        "  #2. Create subdirectory on the defined path:\n",
        "  os.makedirs(testing_dir)\n",
        "  print(f\"Testing directory created as \\'{testing_dir}\\'.\")\n",
        "\n",
        "  #Create subfolders that will store the cats and dogs images\n",
        "  print(\"Creating the subfolders for storing cats and dogs images.\")\n",
        "  # Directory with training cat/dog pictures\n",
        "  # 1. Define subdirectory path (path where the directory will be created):\n",
        "  training_cats_dir = os.path.join(training_dir, 'cats')\n",
        "  training_dogs_dir = os.path.join(training_dir, 'dogs')\n",
        "  \n",
        "  # 2. Create subdirectories on the defined paths:\n",
        "  os.makedirs(training_cats_dir)\n",
        "  os.makedirs(training_dogs_dir)\n",
        "  print(f\"\\'{training_cats_dir}\\' and \\'{training_dogs_dir}\\' created.\")\n",
        "\n",
        "  # Directory with testing cat/dog pictures\n",
        "  # 1. Define subdirectory path (path where the directory will be created):\n",
        "  testing_cats_dir = os.path.join(testing_dir, 'cats')\n",
        "  testing_dogs_dir = os.path.join(testing_dir, 'dogs')\n",
        "  \n",
        "  # 2. Create subdirectories on the defined paths:\n",
        "  os.makedirs(testing_cats_dir)\n",
        "  os.makedirs(testing_dogs_dir)\n",
        "  print(f\"\\'{testing_cats_dir}\\' and \\'{testing_dogs_dir}\\' created.\")\n",
        "\n",
        "  pass\n",
        "  \n",
        "  ### END CODE HERE\n",
        "\n",
        "  \n",
        "try:\n",
        "  create_train_test_dirs(root_path=root_dir)\n",
        "except FileExistsError:\n",
        "  print(\"You should not be seeing this since the upper directory is removed beforehand\")"
      ]
    },
    {
      "cell_type": "code",
      "execution_count": 6,
      "metadata": {
        "id": "5dhtL344OK00",
        "colab": {
          "base_uri": "https://localhost:8080/"
        },
        "outputId": "8d87f284-c8f6-4681-c831-eb708862d836"
      },
      "outputs": [
        {
          "output_type": "stream",
          "name": "stdout",
          "text": [
            "/tmp/cats-v-dogs/testing\n",
            "/tmp/cats-v-dogs/training\n",
            "/tmp/cats-v-dogs/testing/cats\n",
            "/tmp/cats-v-dogs/testing/dogs\n",
            "/tmp/cats-v-dogs/training/cats\n",
            "/tmp/cats-v-dogs/training/dogs\n"
          ]
        }
      ],
      "source": [
        "# Test your create_train_test_dirs function\n",
        "\n",
        "for rootdir, dirs, files in os.walk(root_dir):\n",
        "    for subdir in dirs:\n",
        "        print(os.path.join(rootdir, subdir))"
      ]
    },
    {
      "cell_type": "markdown",
      "metadata": {
        "id": "D7A0RK3IQsvg"
      },
      "source": [
        "**Expected Output (directory order might vary):**\n",
        "\n",
        "``` txt\n",
        "/tmp/cats-v-dogs/training\n",
        "/tmp/cats-v-dogs/testing\n",
        "/tmp/cats-v-dogs/training/cats\n",
        "/tmp/cats-v-dogs/training/dogs\n",
        "/tmp/cats-v-dogs/testing/cats\n",
        "/tmp/cats-v-dogs/testing/dogs\n",
        "\n",
        "```"
      ]
    },
    {
      "cell_type": "markdown",
      "metadata": {
        "id": "R93T7HdE5txZ"
      },
      "source": [
        "Code the `split_data` function which takes in the following arguments:\n",
        "- SOURCE: directory containing the files\n",
        "\n",
        "- TRAINING: directory that a portion of the files will be copied to (will be used for training)\n",
        "- TESTING: directory that a portion of the files will be copied to (will be used for testing)\n",
        "- SPLIT SIZE: to determine the portion\n",
        "\n",
        "The files should be randomized, so that the training set is a random sample of the files, and the test set is made up of the remaining files.\n",
        "\n",
        "For example, if `SOURCE` is `PetImages/Cat`, and `SPLIT` SIZE is .9 then 90% of the images in `PetImages/Cat` will be copied to the `TRAINING` dir\n",
        "and 10% of the images will be copied to the `TESTING` dir.\n",
        "\n",
        "All images should be checked before the copy, so if they have a zero file length, they will be omitted from the copying process. If this is the case then your function should print out a message such as `\"filename is zero length, so ignoring.\"`. **You should perform this check before the split so that only non-zero images are considered when doing the actual split.**\n",
        "\n",
        "\n",
        "Hints:\n",
        "\n",
        "- `os.listdir(DIRECTORY)` returns a list with the contents of that directory.\n",
        "\n",
        "- `os.path.getsize(PATH)` returns the size of the file\n",
        "\n",
        "- `copyfile(source, destination)` copies a file from source to destination\n",
        "\n",
        "- `random.sample(list, len(list))` shuffles a list"
      ]
    },
    {
      "cell_type": "code",
      "execution_count": 9,
      "metadata": {
        "cellView": "code",
        "id": "zvSODo0f9LaU"
      },
      "outputs": [],
      "source": [
        "# GRADED FUNCTION: split_data\n",
        "def split_data(SOURCE, TRAINING, TESTING, SPLIT_SIZE):\n",
        "\n",
        "  ### START CODE HERE\n",
        "  \n",
        "  import numpy as np\n",
        "\n",
        "  ### START CODE HERE\n",
        "  #SOURCE = Original directory containing the files\n",
        "  #TRAINING = Directory that will receive the files for training the neural networks.\n",
        "  #TESTING = Directory that will receive the files for testing the neural networks.\n",
        "  #SPLIT_SIZE = Percent of split between the files - fraction destined to\n",
        "  #training\n",
        "  #This function should be analogous to Sklearn's train_test_split.\n",
        "\n",
        "  #If SOURCE == root directory, len(SOURCE) == 2, since this directory contains\n",
        "  #only two items, the two sub-directories.\n",
        "  #Therefore, SORCE must be the path of the subdirectory itself:\n",
        "  # SOURCE = '/tmp/PetImages/Dog' for the dog images\n",
        "  # SOURCE = '/tmp/PetImages/Cat' for the cat images\n",
        "\n",
        "  #Get a list containing the contents of the SOURCE directory:\n",
        "  files_list = os.listdir(SOURCE)\n",
        "\n",
        "  #Each element of this list is the NAME of the file, not its full path.\n",
        "  #For instance, one element could be \"3447.jpg\". Notice that the full path\n",
        "  #of the file is the concatenation between the SOURCE (\"/tmp/PetImages/Dog\"), \n",
        "  # \"/\", and the file name.\n",
        "  \n",
        "  #Get the total of files:\n",
        "  total_files = len(files_list)\n",
        "\n",
        "  #Get total of files used for training:\n",
        "  total_training_files = int(np.rint(SPLIT_SIZE * total_files))\n",
        "  #We must use the int function to guarantee that the list will contain an\n",
        "  #integer number of files (we cannot have a fraction of a file).\n",
        "  #The int function guarantees that the variable will be stored as an integer.\n",
        "  #The numpy.rint(a) function rounds elements of the array to the nearest integer.\n",
        "  #https://numpy.org/doc/stable/reference/generated/numpy.rint.html\n",
        "  #For values exactly halfway between rounded decimal values, \n",
        "  #NumPy rounds to the nearest even value. \n",
        "  #Thus 1.5 and 2.5 round to 2.0; -0.5 and 0.5 round to 0.0; etc.\n",
        "\n",
        "  #Get total of files used for testing:\n",
        "  total_testing_files = total_files - total_training_files\n",
        "\n",
        "  #Function random.sample(input_list, number_of_samples): this function creates a list containing\n",
        "  #a total of elements equals to the parameter \"number_of_samples\", which must be an integer.\n",
        "  #This list is obtained by ramdomly selecting a total of \"number_of_samples\" elements from the\n",
        "  #list \"input_list\" passed as parameter.\n",
        "\n",
        "  #Create a list of the files used for training, by sampling the files_list:\n",
        "  training_files = random.sample(files_list, total_training_files)\n",
        "\n",
        "  #Create a list of the files used for testing.\n",
        "  #1) Create an empty list:\n",
        "  testing_files = []\n",
        "\n",
        "  #2) Loop through the original files_list and check if the file is in the training list, \n",
        "  #by using the \"in\" method. If it is not, then append it to the testing_files list.\n",
        "  #Notice that the Pandas \"isin\" method is the analogous, but applies to dataframes, not\n",
        "  #to lists.\n",
        "  \n",
        "  #Loop through each element (named 'file') of the original files_list:\n",
        "  for file in files_list:\n",
        "\n",
        "      #create a boolean checker, that can be either True or False:\n",
        "      bool_check = file in training_files\n",
        "      #If file is one item from 'training_files' list, the bool_check = True.\n",
        "      #If it is not, bool_check = False\n",
        "\n",
        "      if (bool_check == False):\n",
        "        #This file is not on training_files list, so we can copy it to the \n",
        "        #testing_files list, by appending it:\n",
        "        testing_files.append(file)\n",
        "\n",
        "  #Now, we can copy the training_list to the training directories of cats and dogs.\n",
        "  #Before copying, we must check if the file is not empty, and do not copy the empty\n",
        "  #ones.\n",
        "\n",
        "  #Notice that the SOURCE file is divided by several slashs (\"/\").\n",
        "  #We can apply the Python default method str.split(sep=None, maxsplit=- 1)\n",
        "  #where 'sep' is the character used for separation (whitespace is the default separator); \n",
        "  #and 'maxsplit' is the maximum number of splits allowed. If maxsplit = -1 or if it is\n",
        "  #not specified, there is no maximum number of splits.\n",
        "  #https://docs.python.org/dev/library/stdtypes.html#str.split\n",
        "  #https://numpy.org/doc/stable/reference/routines.char.html\n",
        "  \n",
        "  #The str.split method is from the default library of Python, and must be applied\n",
        "  #to objects of type string. It returns a list of substrings.\n",
        "\n",
        "  #If we set sep = \"/\", the str.split method will return a list constituted by\n",
        "  # several substrings separated by the slash. For example. If we separate '/tmp/PetImages/Dog', \n",
        "  # the function will return ['', 'tmp', 'PetImages', 'Dog'].\n",
        "  #The last element of the list will be either \"Dog\" or \"Cat\", and will define where we should save\n",
        "  #the files, in the cat or in the dog directory.\n",
        "\n",
        "  #Create the list of substrings\n",
        "  list_of_substrings = SOURCE.split(sep = \"/\")\n",
        "  #Take the last element (file_class) of this list. The total of elements is:\n",
        "  # len(list_of_substrings). Since indexing starts from zero, the last element\n",
        "  # is the one with index = len(list_of_substrings) - 1\n",
        "  file_class = list_of_substrings[(len(list_of_substrings) - 1)]\n",
        "\n",
        "  #file_class = 'Dog' or file_class = 'Cat'\n",
        "\n",
        "  #Now, let's copy the files on the training directory.\n",
        "\n",
        "  #Loop through each element (object named 'file') of the 'training_files' list:\n",
        "  for file in training_files:\n",
        "\n",
        "    #Retrieve the full file path, by joining the file name to the SOURCE path:\n",
        "    file_path = os.path.join(SOURCE, file)\n",
        "    #Get the file size:\n",
        "    file_size = os.path.getsize(file_path)\n",
        "\n",
        "    #Check if the size is higher than zero (non-empty images):\n",
        "    if (file_size > 0):\n",
        "\n",
        "        #Now, we can copy the non-empty 'file' from 'file_path' to the new directory.\n",
        "        #The training directory was passed as the parameter 'TRAINING'.\n",
        "        #The method copyfile(source, destination) copies a file from 'source' to 'destination' directory.\n",
        "        #1. Set the new file path:\n",
        "        new_path = os.path.join(TRAINING, file)\n",
        "        #2. Copy the file to this new file path:\n",
        "        copyfile(file_path, new_path)\n",
        "    \n",
        "    else: \n",
        "      #print the message for the zero-sized file\n",
        "      printed_msg = file + \" is zero length, so ignoring.\"\n",
        "      print(printed_msg)\n",
        "    \n",
        "    #Now that we copied all the files to the training directories, we can repeat\n",
        "    #the proces s for the testing directory:\n",
        "\n",
        "  #Loop through each element (named 'file') of the 'testing_files' list:\n",
        "  for file in testing_files:\n",
        "\n",
        "    #Retrieve the full file path, by joining the file name to the SOURCE path:\n",
        "    file_path = os.path.join(SOURCE, file)\n",
        "    #Get the file size:\n",
        "    file_size = os.path.getsize(file_path)\n",
        "\n",
        "    #Check if the size is higher than zero (non-empty images):\n",
        "    if (file_size > 0):\n",
        "\n",
        "        #Now, we can copy the non-empty file from 'file_path' to the new directory.\n",
        "        #The testing directory was passed as the parameter 'TESTING'.\n",
        "        #1. Set the new file path:\n",
        "        new_path = os.path.join(TESTING, file)\n",
        "        #2. Copy the file to this new file path:\n",
        "        copyfile(file_path, new_path)\n",
        "       \n",
        "    else: \n",
        "      #print the message for the zero-sized file\n",
        "      printed_msg = file + \" is zero length, so ignoring.\"\n",
        "      print(printed_msg)\n",
        "\n",
        "  pass\n",
        "\n",
        "  ### END CODE HERE\n"
      ]
    },
    {
      "cell_type": "code",
      "execution_count": 10,
      "metadata": {
        "id": "FlIdoUeX9S-9",
        "colab": {
          "base_uri": "https://localhost:8080/"
        },
        "outputId": "2173a1af-5e7f-4cf4-a102-2a01cdf59064"
      },
      "outputs": [
        {
          "output_type": "stream",
          "name": "stdout",
          "text": [
            "666.jpg is zero length, so ignoring.\n",
            "11702.jpg is zero length, so ignoring.\n",
            "\n",
            "\n",
            "There are 11250 images of cats for training\n",
            "There are 11250 images of dogs for training\n",
            "There are 1250 images of cats for testing\n",
            "There are 1250 images of dogs for testing\n"
          ]
        }
      ],
      "source": [
        "# Test your split_data function\n",
        "\n",
        "# Define paths\n",
        "CAT_SOURCE_DIR = \"/tmp/PetImages/Cat/\"\n",
        "DOG_SOURCE_DIR = \"/tmp/PetImages/Dog/\"\n",
        "\n",
        "TRAINING_DIR = \"/tmp/cats-v-dogs/training/\"\n",
        "TESTING_DIR = \"/tmp/cats-v-dogs/testing/\"\n",
        "\n",
        "TRAINING_CATS_DIR = os.path.join(TRAINING_DIR, \"cats/\")\n",
        "TESTING_CATS_DIR = os.path.join(TESTING_DIR, \"cats/\")\n",
        "\n",
        "TRAINING_DOGS_DIR = os.path.join(TRAINING_DIR, \"dogs/\")\n",
        "TESTING_DOGS_DIR = os.path.join(TESTING_DIR, \"dogs/\")\n",
        "\n",
        "# Empty directories in case you run this cell multiple times\n",
        "if len(os.listdir(TRAINING_CATS_DIR)) > 0:\n",
        "  for file in os.scandir(TRAINING_CATS_DIR):\n",
        "    os.remove(file.path)\n",
        "if len(os.listdir(TRAINING_DOGS_DIR)) > 0:\n",
        "  for file in os.scandir(TRAINING_DOGS_DIR):\n",
        "    os.remove(file.path)\n",
        "if len(os.listdir(TESTING_CATS_DIR)) > 0:\n",
        "  for file in os.scandir(TESTING_CATS_DIR):\n",
        "    os.remove(file.path)\n",
        "if len(os.listdir(TESTING_DOGS_DIR)) > 0:\n",
        "  for file in os.scandir(TESTING_DOGS_DIR):\n",
        "    os.remove(file.path)\n",
        "\n",
        "# Define proportion of images used for training\n",
        "split_size = .9\n",
        "\n",
        "# Run the function\n",
        "# NOTE: Messages about zero length images should be printed out\n",
        "split_data(CAT_SOURCE_DIR, TRAINING_CATS_DIR, TESTING_CATS_DIR, split_size)\n",
        "split_data(DOG_SOURCE_DIR, TRAINING_DOGS_DIR, TESTING_DOGS_DIR, split_size)\n",
        "\n",
        "# Check that the number of images matches the expected output\n",
        "print(f\"\\n\\nThere are {len(os.listdir(TRAINING_CATS_DIR))} images of cats for training\")\n",
        "print(f\"There are {len(os.listdir(TRAINING_DOGS_DIR))} images of dogs for training\")\n",
        "print(f\"There are {len(os.listdir(TESTING_CATS_DIR))} images of cats for testing\")\n",
        "print(f\"There are {len(os.listdir(TESTING_DOGS_DIR))} images of dogs for testing\")"
      ]
    },
    {
      "cell_type": "markdown",
      "metadata": {
        "id": "hvskJNOFVSaz"
      },
      "source": [
        "**Expected Output:**\n",
        "\n",
        "```\n",
        "666.jpg is zero length, so ignoring.\n",
        "11702.jpg is zero length, so ignoring.\n",
        "```\n",
        "\n",
        "```\n",
        "There are 11250 images of cats for training\n",
        "There are 11250 images of dogs for training\n",
        "There are 1250 images of cats for testing\n",
        "There are 1250 images of dogs for testing\n",
        "```"
      ]
    },
    {
      "cell_type": "markdown",
      "metadata": {
        "id": "Zil4QmOD_mXF"
      },
      "source": [
        "Now that you have successfully organized the data in a way that can be easily fed to Keras' `ImageDataGenerator`, it is time for you to code the generators that will yield batches of images, both for training and validation. For this, complete the `train_val_generators` function below.\n",
        "\n",
        "Something important to note is that the images in this dataset come in a variety of resolutions. Luckily, the `flow_from_directory` method allows you to standarize this by defining a tuple called `target_size` that will be used to convert each image to this target resolution. **For this exercise use a `target_size` of (150, 150)**.\n",
        "\n",
        "**Note:** So far, you have seen the term `testing` being used a lot for referring to a subset of images within the dataset. In this exercise, all of the `testing` data is actually being used as `validation` data. This is not very important within the context of the task at hand but it is worth mentioning to avoid confusion."
      ]
    },
    {
      "cell_type": "code",
      "execution_count": 11,
      "metadata": {
        "cellView": "code",
        "id": "fQrZfVgz4j2g"
      },
      "outputs": [],
      "source": [
        "# GRADED FUNCTION: train_val_generators\n",
        "def train_val_generators(TRAINING_DIR, VALIDATION_DIR):\n",
        "  ### START CODE HERE\n",
        "\n",
        "  from tensorflow.keras.preprocessing.image import ImageDataGenerator\n",
        "\n",
        "  # Instantiate the ImageDataGenerator class (don't forget to set the rescale argument)\n",
        "  #Pixel intensity goes from 0 to 255. Let's normalize it so that it goes from 0 to 1:\n",
        "  \n",
        "  ## rotation_range is a value in degrees (0–180) within \n",
        "  ##  which to randomly rotate pictures.\n",
        "  ## width_shift and height_shift are ranges (as a fraction of total width or height) \n",
        "  ##  within which to randomly translate pictures vertically or horizontally.\n",
        "  ## shear_range is for randomly applying shearing transformations.\n",
        "  ## zoom_range is for randomly zooming inside pictures.\n",
        "  ## horizontal_flip is for randomly flipping half of the images horizontally. \n",
        "  ##  This is relevant when there are no assumptions of horizontal assymmetry \n",
        "  ##  (e.g. real-world pictures).\n",
        "  ## fill_mode is the strategy used for filling in newly created pixels, \n",
        "  ##  which can appear after a rotation or a width/height shift.\n",
        "  \n",
        "  train_datagen = ImageDataGenerator(rescale = (1.0)/(255.),\n",
        "                                     rotation_range=40,\n",
        "                                     width_shift_range=0.2,\n",
        "                                     height_shift_range=0.2,\n",
        "                                     shear_range=0.2,\n",
        "                                     zoom_range=0.2,\n",
        "                                     horizontal_flip=True,\n",
        "                                     fill_mode='nearest')\n",
        "\n",
        "  # Pass in the appropriate arguments to the flow_from_directory method\n",
        "  train_generator = train_datagen.flow_from_directory(directory = TRAINING_DIR,\n",
        "                                                      batch_size = 200,\n",
        "                                                      class_mode = \"binary\",\n",
        "                                                      target_size = (150, 150))\n",
        "\n",
        "  #batch_size represents the amount of data used in each training cycle. Since we\n",
        "  #have 22500 images for training, we will have 120 batches using 200 images.\n",
        "  #Other class modes are 'categorical' or 'sparse'. \n",
        "  #The image target_size should be (150, 150) as mentioned earlier\n",
        "  \n",
        "  # Instantiate the ImageDataGenerator class (don't forget to set the rescale argument)\n",
        "  validation_datagen = ImageDataGenerator(rescale = (1.0)/(255.),\n",
        "                                     rotation_range=40,\n",
        "                                     width_shift_range=0.2,\n",
        "                                     height_shift_range=0.2,\n",
        "                                     shear_range=0.2,\n",
        "                                     zoom_range=0.2,\n",
        "                                     horizontal_flip=True,\n",
        "                                     fill_mode='nearest')\n",
        "\n",
        "  # Pass in the appropriate arguments to the flow_from_directory method\n",
        "  validation_generator = validation_datagen.flow_from_directory(directory = VALIDATION_DIR,\n",
        "                                                                batch_size = 20,\n",
        "                                                                class_mode = \"binary\",\n",
        "                                                                target_size = (150, 150))\n",
        "  \n",
        "  #For testing, we have 2500 images, so we will use 120 batches of 20 images\n",
        "  \n",
        "  ### END CODE HERE\n",
        "  \n",
        "  return train_generator, validation_generator"
      ]
    },
    {
      "cell_type": "code",
      "execution_count": 12,
      "metadata": {
        "id": "qM7FxrjGiobD",
        "colab": {
          "base_uri": "https://localhost:8080/"
        },
        "outputId": "3c810c11-e1e1-4f7a-fe7e-3b148618bd56"
      },
      "outputs": [
        {
          "output_type": "stream",
          "name": "stdout",
          "text": [
            "Found 22498 images belonging to 2 classes.\n",
            "Found 2500 images belonging to 2 classes.\n"
          ]
        }
      ],
      "source": [
        "# Test your generators\n",
        "train_generator, validation_generator = train_val_generators(TRAINING_DIR, TESTING_DIR)"
      ]
    },
    {
      "cell_type": "markdown",
      "metadata": {
        "id": "tiPNmSfZjHwJ"
      },
      "source": [
        "**Expected Output:**\n",
        "\n",
        "```\n",
        "Found 22498 images belonging to 2 classes.\n",
        "Found 2500 images belonging to 2 classes.\n",
        "```\n"
      ]
    },
    {
      "cell_type": "markdown",
      "metadata": {
        "id": "TI3oEmyQCZoO"
      },
      "source": [
        "One last step before training is to define the architecture of the model that will be trained.\n",
        "\n",
        "Complete the `create_model` function below which should return a Keras' `Sequential` model.\n",
        "\n",
        "Aside from defining the architecture of the model, you should also compile it so make sure to use a `loss` function that is compatible with the `class_mode` you defined in the previous exercise, which should also be compatible with the output of your network. You can tell if they aren't compatible if you get an error during training.\n",
        "\n",
        "**Note that you should use at least 3 convolution layers to achieve the desired performance.**"
      ]
    },
    {
      "cell_type": "code",
      "execution_count": 13,
      "metadata": {
        "cellView": "code",
        "id": "oDPK8tUB_O9e",
        "lines_to_next_cell": 2
      },
      "outputs": [],
      "source": [
        "# GRADED FUNCTION: create_model\n",
        "def create_model():\n",
        "  # DEFINE A KERAS MODEL TO CLASSIFY CATS V DOGS\n",
        "  # USE AT LEAST 3 CONVOLUTION LAYERS\n",
        "\n",
        "  ### START CODE HERE\n",
        "\n",
        "  model = tf.keras.models.Sequential([ \n",
        "    # Note the input shape is the desired size of the image 150x150 with 3 bytes color (R, G, B)\n",
        "    \n",
        "    #First convolution:\n",
        "    tf.keras.layers.Conv2D(16, (3,3), activation='relu', input_shape=(150, 150, 3)),\n",
        "    # Kernels are defined as tuples (X, Y), where X is related to the X axis of the image; and Y is related to\n",
        "    # the Y axis of the image.\n",
        "    # A convolution (N, N) kernel reduces the image's axis X by (N-1) pixels; and its axis Y by (N-1) pixels.\n",
        "    #The (3, 3) kernel reduces the image's axis X by 2 pixels; and its axis Y by 2 pixels.\n",
        "    #Now, the image gets (148 x 148) pixels\n",
        "    tf.keras.layers.MaxPooling2D(2,2),\n",
        "    # A (N, N) max pooling divides the axis X by a factor N; and divides axis Y by a factor N.\n",
        "    #The (2, 2) max pooling divides the length of each axis by 2.\n",
        "    #Now, the image gets (74 x 74) pixels.\n",
        "    \n",
        "    ## Notice that the (N x N) pixels image is represented by a tuple (N, N).\n",
        "    # Analogously, the (K, K) tuple of the kernel represents a filter with dimensions (K x K) pixels.\n",
        "    # Then, we use the notations (N x N) and (N, N) interchangeably, since Keras requires the input of the\n",
        "    # image and kernel dimensions as a tuple (N, N).\n",
        "\n",
        "    #Second convolution:\n",
        "    tf.keras.layers.Conv2D(32, (3,3), activation='relu'),\n",
        "    #Image gets (72 x 72)\n",
        "    tf.keras.layers.MaxPooling2D(2,2), \n",
        "    #Image gets (36 x 36)\n",
        "\n",
        "    #Third convolution:\n",
        "    tf.keras.layers.Conv2D(64, (3,3), activation='relu'), \n",
        "    #Image gets (34 x 34)\n",
        "    tf.keras.layers.MaxPooling2D(2,2),\n",
        "    #Image is reduced to (17 x 17).\n",
        "\n",
        "    #Fourth convolution:\n",
        "    tf.keras.layers.Conv2D(32, (3,3), activation='relu'), \n",
        "    #Image gets (15 x 15)\n",
        "    tf.keras.layers.MaxPooling2D(2,2),\n",
        "    #Image is reduced to (7 x 7) - (dimensions are rounded down after division)\n",
        "\n",
        "    #If we applied a 5th convolution, the images would get excessively\n",
        "    #reduced to only (2x2) pixels after pooling. Then, there would be to few\n",
        "    #information retrieved. Also, the adding of convolutional layers can\n",
        "    #increase the training time too much. The 4 ConvNets showed to be the best\n",
        "    #architecture for this case, allowing the achievement of the desired accuracy.\n",
        "\n",
        "    # Flatten the results to feed into a DNN\n",
        "    # Convert the images to 1-dimension NumPy arrays to be processed by the dense\n",
        "    # neural networks.\n",
        "    tf.keras.layers.Flatten(),\n",
        "    # 512 neurons-hidden layer:\n",
        "    tf.keras.layers.Dense(512, activation='relu'), \n",
        "    # Only 1 output neuron. That is because we are dealing with a BINARY classification problem\n",
        "    # where the output gets a value from 0-1 (representing a probability) for an image belonging to\n",
        "    # a given class. We label the images as 0 for one class ('cats'); and as 1 for the other ('dogs').\n",
        "    # Remember that the last dense layer should have a number of neurons equals to the number of\n",
        "    # possible classes. For regression problems, the output is a scalar (a 1-dimensional number), so the\n",
        "    # last dense layer must have a single neuron. For a multi-classification problem with N classes,\n",
        "    # we should have N neurons activated through 'softmax' in the last dense layer. Therefore, we could\n",
        "    # use here a Dense(2, activation = 'softmax'). On the other hand, the Dense(1, activation = 'sigmoid')\n",
        "    # is equivalent to the logistic regression and shows better performance for the binary classification\n",
        "    # then the Dense(2, activation = 'softmax') layer.\n",
        "    # Notice, though, that the use of Dense(1, activation = 'sigmoid') in classifications is restricted to\n",
        "    # the situation where we have only two classes. For more (N) classes, use Dense(N, activation = 'softmax').\n",
        "    tf.keras.layers.Dense(1, activation='sigmoid')  \n",
        "  ])\n",
        "  \n",
        "  #The best optimizer for this model is 'adam' which automatically adjusts the\n",
        "  #learning rates, i.e., the rate of correction of the weights.\n",
        "  #In the beginning, a too high learning rate leads to very intense errors and\n",
        "  #difficulty on finding the optimum. So, in the beginning, the learning rate \n",
        "  #should be low until the model finds the best direction for adjusting its parameters.\n",
        "  #On the other hand, at the end of the process, the learning rate should be increased.\n",
        "  #If it is not, the model will adjust its weights in a very low rate, and will show very\n",
        "  #few improvement from one epoch to the other.\n",
        "  #RMSProp does not allow us to adjust the learning rate during training, but 'adam' does\n",
        "  #that for us.\n",
        "\n",
        "  model.compile(optimizer = 'adam',\n",
        "                loss = 'binary_crossentropy',\n",
        "                metrics=['accuracy']) \n",
        "\n",
        "  # To track the image throughout the neural networks, call the model.summary() method and print it:\n",
        "  ## print(model.summary())\n",
        "  # Alternatively, simply call the function and declares in another cell:\n",
        "  ## model.summary()\n",
        "  # Notice that, for printing the whole track of the image, this method must have no arguments, \n",
        "  # so it should be declared with empty parameters.\n",
        "  \n",
        "  ### END CODE HERE\n",
        "\n",
        "  return model"
      ]
    },
    {
      "cell_type": "markdown",
      "metadata": {
        "id": "SMFNJZmTCZv6"
      },
      "source": [
        "Now it is time to train your model!\n",
        "\n",
        "Note: You can ignore the `UserWarning: Possibly corrupt EXIF data.` warnings."
      ]
    },
    {
      "cell_type": "code",
      "execution_count": 14,
      "metadata": {
        "id": "5qE1G6JB4fMn",
        "colab": {
          "base_uri": "https://localhost:8080/"
        },
        "outputId": "92e7b512-6ee0-4eff-a94a-450918e4f112"
      },
      "outputs": [
        {
          "output_type": "stream",
          "name": "stdout",
          "text": [
            "Epoch 1/15\n",
            "101/113 [=========================>....] - ETA: 21s - loss: 0.6814 - accuracy: 0.5537"
          ]
        },
        {
          "output_type": "stream",
          "name": "stderr",
          "text": [
            "/usr/local/lib/python3.7/dist-packages/PIL/TiffImagePlugin.py:770: UserWarning: Possibly corrupt EXIF data.  Expecting to read 32 bytes but only got 0. Skipping tag 270\n",
            "  \" Skipping tag %s\" % (size, len(data), tag)\n",
            "/usr/local/lib/python3.7/dist-packages/PIL/TiffImagePlugin.py:770: UserWarning: Possibly corrupt EXIF data.  Expecting to read 5 bytes but only got 0. Skipping tag 271\n",
            "  \" Skipping tag %s\" % (size, len(data), tag)\n",
            "/usr/local/lib/python3.7/dist-packages/PIL/TiffImagePlugin.py:770: UserWarning: Possibly corrupt EXIF data.  Expecting to read 8 bytes but only got 0. Skipping tag 272\n",
            "  \" Skipping tag %s\" % (size, len(data), tag)\n",
            "/usr/local/lib/python3.7/dist-packages/PIL/TiffImagePlugin.py:770: UserWarning: Possibly corrupt EXIF data.  Expecting to read 8 bytes but only got 0. Skipping tag 282\n",
            "  \" Skipping tag %s\" % (size, len(data), tag)\n",
            "/usr/local/lib/python3.7/dist-packages/PIL/TiffImagePlugin.py:770: UserWarning: Possibly corrupt EXIF data.  Expecting to read 8 bytes but only got 0. Skipping tag 283\n",
            "  \" Skipping tag %s\" % (size, len(data), tag)\n",
            "/usr/local/lib/python3.7/dist-packages/PIL/TiffImagePlugin.py:770: UserWarning: Possibly corrupt EXIF data.  Expecting to read 20 bytes but only got 0. Skipping tag 306\n",
            "  \" Skipping tag %s\" % (size, len(data), tag)\n",
            "/usr/local/lib/python3.7/dist-packages/PIL/TiffImagePlugin.py:770: UserWarning: Possibly corrupt EXIF data.  Expecting to read 48 bytes but only got 0. Skipping tag 532\n",
            "  \" Skipping tag %s\" % (size, len(data), tag)\n",
            "/usr/local/lib/python3.7/dist-packages/PIL/TiffImagePlugin.py:788: UserWarning: Corrupt EXIF data.  Expecting to read 2 bytes but only got 0. \n",
            "  warnings.warn(str(msg))\n"
          ]
        },
        {
          "output_type": "stream",
          "name": "stdout",
          "text": [
            "113/113 [==============================] - 238s 2s/step - loss: 0.6773 - accuracy: 0.5615 - val_loss: 0.6377 - val_accuracy: 0.6328\n",
            "Epoch 2/15\n",
            "113/113 [==============================] - 228s 2s/step - loss: 0.6213 - accuracy: 0.6552 - val_loss: 0.6234 - val_accuracy: 0.6444\n",
            "Epoch 3/15\n",
            "113/113 [==============================] - 233s 2s/step - loss: 0.5985 - accuracy: 0.6724 - val_loss: 0.5771 - val_accuracy: 0.6908\n",
            "Epoch 4/15\n",
            "113/113 [==============================] - 209s 2s/step - loss: 0.5641 - accuracy: 0.7066 - val_loss: 0.5721 - val_accuracy: 0.6924\n",
            "Epoch 5/15\n",
            "113/113 [==============================] - 234s 2s/step - loss: 0.5429 - accuracy: 0.7258 - val_loss: 0.5280 - val_accuracy: 0.7324\n",
            "Epoch 6/15\n",
            "113/113 [==============================] - 212s 2s/step - loss: 0.5211 - accuracy: 0.7420 - val_loss: 0.5108 - val_accuracy: 0.7416\n",
            "Epoch 7/15\n",
            "113/113 [==============================] - 226s 2s/step - loss: 0.5060 - accuracy: 0.7509 - val_loss: 0.5052 - val_accuracy: 0.7448\n",
            "Epoch 8/15\n",
            "113/113 [==============================] - 203s 2s/step - loss: 0.4866 - accuracy: 0.7614 - val_loss: 0.5520 - val_accuracy: 0.7144\n",
            "Epoch 9/15\n",
            "113/113 [==============================] - 200s 2s/step - loss: 0.4736 - accuracy: 0.7690 - val_loss: 0.4587 - val_accuracy: 0.7812\n",
            "Epoch 10/15\n",
            "113/113 [==============================] - 203s 2s/step - loss: 0.4487 - accuracy: 0.7878 - val_loss: 0.4554 - val_accuracy: 0.7804\n",
            "Epoch 11/15\n",
            "113/113 [==============================] - 223s 2s/step - loss: 0.4415 - accuracy: 0.7913 - val_loss: 0.4288 - val_accuracy: 0.7992\n",
            "Epoch 12/15\n",
            "113/113 [==============================] - 205s 2s/step - loss: 0.4209 - accuracy: 0.8050 - val_loss: 0.4311 - val_accuracy: 0.8000\n",
            "Epoch 13/15\n",
            "113/113 [==============================] - 206s 2s/step - loss: 0.4103 - accuracy: 0.8111 - val_loss: 0.4136 - val_accuracy: 0.7984\n",
            "Epoch 14/15\n",
            "113/113 [==============================] - 199s 2s/step - loss: 0.4018 - accuracy: 0.8129 - val_loss: 0.4222 - val_accuracy: 0.8096\n",
            "Epoch 15/15\n",
            "113/113 [==============================] - 198s 2s/step - loss: 0.3810 - accuracy: 0.8260 - val_loss: 0.4002 - val_accuracy: 0.8112\n"
          ]
        }
      ],
      "source": [
        "# Get the untrained model\n",
        "model = create_model()\n",
        "\n",
        "# Train the model\n",
        "# Note that this may take some time.\n",
        "history = model.fit(train_generator,\n",
        "                    epochs=15,\n",
        "                    verbose=1,\n",
        "                    validation_data=validation_generator)"
      ]
    },
    {
      "cell_type": "markdown",
      "metadata": {
        "id": "VGsaDMc-GMd4"
      },
      "source": [
        "Once training has finished, you can run the following cell to check the training and validation accuracy achieved at the end of each epoch.\n",
        "\n",
        "**To pass this assignment, your model should achieve a training and validation accuracy of at least 80% and the final testing accuracy should be either higher than the training one or have a 5% difference at maximum**. If your model didn't achieve these thresholds, try training again with a different model architecture, remember to use at least 3 convolutional layers or try tweaking the image augmentation process.\n",
        "\n",
        "You might wonder why the training threshold to pass this assignment is significantly lower compared to last week's assignment. Image augmentation does help with overfitting but usually this comes at the expense of requiring more training time. To keep the training time reasonable, the same number of epochs as in the previous assignment are kept. \n",
        "\n",
        "However, as an optional exercise you are encouraged to try training for more epochs and to achieve really good training and validation accuracies."
      ]
    },
    {
      "cell_type": "code",
      "execution_count": 15,
      "metadata": {
        "id": "MWZrJN4-65RC",
        "colab": {
          "base_uri": "https://localhost:8080/",
          "height": 546
        },
        "outputId": "c64c42be-b3d9-49c9-b805-a53ef889852b"
      },
      "outputs": [
        {
          "output_type": "display_data",
          "data": {
            "text/plain": [
              "<Figure size 432x288 with 1 Axes>"
            ],
            "image/png": "[encoded data removed]"
          },
          "metadata": {
            "needs_background": "light"
          }
        },
        {
          "output_type": "stream",
          "name": "stdout",
          "text": [
            "\n"
          ]
        },
        {
          "output_type": "display_data",
          "data": {
            "text/plain": [
              "<Figure size 432x288 with 1 Axes>"
            ],
            "image/png": "[encoded data removed]"
          },
          "metadata": {
            "needs_background": "light"
          }
        }
      ],
      "source": [
        "#-----------------------------------------------------------\n",
        "# Retrieve a list of list results on training and test data\n",
        "# sets for each training epoch\n",
        "#-----------------------------------------------------------\n",
        "acc=history.history['accuracy']\n",
        "val_acc=history.history['val_accuracy']\n",
        "loss=history.history['loss']\n",
        "val_loss=history.history['val_loss']\n",
        "\n",
        "epochs=range(len(acc)) # Get number of epochs\n",
        "\n",
        "#------------------------------------------------\n",
        "# Plot training and validation accuracy per epoch\n",
        "#------------------------------------------------\n",
        "plt.plot(epochs, acc, 'r', \"Training Accuracy\")\n",
        "plt.plot(epochs, val_acc, 'b', \"Validation Accuracy\")\n",
        "plt.title('Training and validation accuracy')\n",
        "plt.show()\n",
        "print(\"\")\n",
        "\n",
        "#------------------------------------------------\n",
        "# Plot training and validation loss per epoch\n",
        "#------------------------------------------------\n",
        "plt.plot(epochs, loss, 'r', \"Training Loss\")\n",
        "plt.plot(epochs, val_loss, 'b', \"Validation Loss\")\n",
        "plt.show()"
      ]
    },
    {
      "cell_type": "markdown",
      "metadata": {
        "id": "NYIaqsN2pav6"
      },
      "source": [
        "You will probably encounter that the model is overfitting, which means that it is doing a great job at classifying the images in the training set but struggles with new data. This is perfectly fine and you will learn how to mitigate this issue in the upcomming week.\n",
        "\n",
        "Before closing the assignment, be sure to also download the `history.pkl` file which contains the information of the training history of your model. You can download this file by running the cell below:"
      ]
    },
    {
      "cell_type": "code",
      "execution_count": 16,
      "metadata": {
        "id": "yWcrc9nZTsHj",
        "colab": {
          "base_uri": "https://localhost:8080/",
          "height": 17
        },
        "outputId": "286e785f-0355-4d67-9a64-28880fde30b2"
      },
      "outputs": [
        {
          "output_type": "display_data",
          "data": {
            "text/plain": [
              "<IPython.core.display.Javascript object>"
            ],
            "application/javascript": [
              "\n",
              "    async function download(id, filename, size) {\n",
              "      if (!google.colab.kernel.accessAllowed) {\n",
              "        return;\n",
              "      }\n",
              "      const div = document.createElement('div');\n",
              "      const label = document.createElement('label');\n",
              "      label.textContent = `Downloading \"${filename}\": `;\n",
              "      div.appendChild(label);\n",
              "      const progress = document.createElement('progress');\n",
              "      progress.max = size;\n",
              "      div.appendChild(progress);\n",
              "      document.body.appendChild(div);\n",
              "\n",
              "      const buffers = [];\n",
              "      let downloaded = 0;\n",
              "\n",
              "      const channel = await google.colab.kernel.comms.open(id);\n",
              "      // Send a message to notify the kernel that we're ready.\n",
              "      channel.send({})\n",
              "\n",
              "      for await (const message of channel.messages) {\n",
              "        // Send a message to notify the kernel that we're ready.\n",
              "        channel.send({})\n",
              "        if (message.buffers) {\n",
              "          for (const buffer of message.buffers) {\n",
              "            buffers.push(buffer);\n",
              "            downloaded += buffer.byteLength;\n",
              "            progress.value = downloaded;\n",
              "          }\n",
              "        }\n",
              "      }\n",
              "      const blob = new Blob(buffers, {type: 'application/binary'});\n",
              "      const a = document.createElement('a');\n",
              "      a.href = window.URL.createObjectURL(blob);\n",
              "      a.download = filename;\n",
              "      div.appendChild(a);\n",
              "      a.click();\n",
              "      div.remove();\n",
              "    }\n",
              "  "
            ]
          },
          "metadata": {}
        },
        {
          "output_type": "display_data",
          "data": {
            "text/plain": [
              "<IPython.core.display.Javascript object>"
            ],
            "application/javascript": [
              "download(\"download_e53ab051-10d0-4ecd-a6ec-2301dc166a62\", \"history_augmented.pkl\", 628)"
            ]
          },
          "metadata": {}
        }
      ],
      "source": [
        "def download_history():\n",
        "  import pickle\n",
        "  from google.colab import files\n",
        "\n",
        "  with open('history_augmented.pkl', 'wb') as f:\n",
        "    pickle.dump(history.history, f)\n",
        "\n",
        "  files.download('history_augmented.pkl')\n",
        "\n",
        "download_history()"
      ]
    },
    {
      "cell_type": "code",
      "source": [
        "def download_model():\n",
        "  \n",
        "  from google.colab import files\n",
        "\n",
        "  model.save('cats_vs_dog_augmented_model.h5')\n",
        "    \n",
        "  files.download('cats_vs_dog_augmented_model.h5')\n",
        "\n",
        "download_model()"
      ],
      "metadata": {
        "id": "u06fuSCx3k0G",
        "outputId": "99ff7f8d-f26a-40ca-d587-44f2b280409c",
        "colab": {
          "base_uri": "https://localhost:8080/",
          "height": 17
        }
      },
      "execution_count": 17,
      "outputs": [
        {
          "output_type": "display_data",
          "data": {
            "text/plain": [
              "<IPython.core.display.Javascript object>"
            ],
            "application/javascript": [
              "\n",
              "    async function download(id, filename, size) {\n",
              "      if (!google.colab.kernel.accessAllowed) {\n",
              "        return;\n",
              "      }\n",
              "      const div = document.createElement('div');\n",
              "      const label = document.createElement('label');\n",
              "      label.textContent = `Downloading \"${filename}\": `;\n",
              "      div.appendChild(label);\n",
              "      const progress = document.createElement('progress');\n",
              "      progress.max = size;\n",
              "      div.appendChild(progress);\n",
              "      document.body.appendChild(div);\n",
              "\n",
              "      const buffers = [];\n",
              "      let downloaded = 0;\n",
              "\n",
              "      const channel = await google.colab.kernel.comms.open(id);\n",
              "      // Send a message to notify the kernel that we're ready.\n",
              "      channel.send({})\n",
              "\n",
              "      for await (const message of channel.messages) {\n",
              "        // Send a message to notify the kernel that we're ready.\n",
              "        channel.send({})\n",
              "        if (message.buffers) {\n",
              "          for (const buffer of message.buffers) {\n",
              "            buffers.push(buffer);\n",
              "            downloaded += buffer.byteLength;\n",
              "            progress.value = downloaded;\n",
              "          }\n",
              "        }\n",
              "      }\n",
              "      const blob = new Blob(buffers, {type: 'application/binary'});\n",
              "      const a = document.createElement('a');\n",
              "      a.href = window.URL.createObjectURL(blob);\n",
              "      a.download = filename;\n",
              "      div.appendChild(a);\n",
              "      a.click();\n",
              "      div.remove();\n",
              "    }\n",
              "  "
            ]
          },
          "metadata": {}
        },
        {
          "output_type": "display_data",
          "data": {
            "text/plain": [
              "<IPython.core.display.Javascript object>"
            ],
            "application/javascript": [
              "download(\"download_c64f6a19-51bd-4c3b-95a9-92555b3a0496\", \"cats_vs_dog_augmented_model.h5\", 10213248)"
            ]
          },
          "metadata": {}
        }
      ]
    },
    {
      "cell_type": "markdown",
      "metadata": {
        "id": "yEj7UVe0OgMq"
      },
      "source": [
        "You will also need to submit this notebook for grading. To download it, click on the `File` tab in the upper left corner of the screen then click on `Download` -> `Download .ipynb`. You can name it anything you want as long as it is a valid `.ipynb` (jupyter notebook) file."
      ]
    },
    {
      "cell_type": "markdown",
      "metadata": {
        "id": "joAaZSWWpbOI"
      },
      "source": [
        "**Congratulations on finishing this week's assignment!**\n",
        "\n",
        "You have successfully implemented a convolutional neural network that classifies images of cats and dogs, along with the helper functions needed to pre-process the images!\n",
        "\n",
        "**Keep it up!**"
      ]
    }
  ],
  "metadata": {
    "accelerator": "GPU",
    "kernelspec": {
      "display_name": "Python 3",
      "language": "python",
      "name": "python3"
    },
    "language_info": {
      "codemirror_mode": {
        "name": "ipython",
        "version": 3
      },
      "file_extension": ".py",
      "mimetype": "text/x-python",
      "name": "python",
      "nbconvert_exporter": "python",
      "pygments_lexer": "ipython3",
      "version": "3.7.4"
    },
    "colab": {
      "name": "C2W2_Assignment.ipynb",
      "provenance": []
    }
  },
  "nbformat": 4,
  "nbformat_minor": 0
}